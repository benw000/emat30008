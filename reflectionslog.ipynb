{
 "cells": [
  {
   "cell_type": "markdown",
   "metadata": {},
   "source": [
    "**Reflective Learning Log**\n",
    "\n",
    "Write down learnings each week and progress made as software engineer\n",
    "- What did I learn about the mathematical algorithms?\n",
    "- What did I learn about software engineering? Have my abilities progressed?\n",
    "- When will this be useful in the short term?\n",
    "- When will this be useful in the long term?\n",
    "- What would I have done differently starting again?\n",
    "- What will I do differently now on?"
   ]
  },
  {
   "cell_type": "markdown",
   "metadata": {},
   "source": [
    "Week 1:\n",
    "- Learnt about github and framework for saving versions of code, I can see how this could be useful and a good way to work in a team setting\n",
    "- Set up VSCode with Jupyter notebooks and git, set up my first git repository\n",
    "- Learnt about .py files versus .ipynb, and how you can call functions and variables from different python files; this allows things to be modular and linear - could call other files into a py file and linearly construct more complicated things\n",
    "- Learnt about dictionaries and how they work, should become quite useful\n",
    "- Learnt how to use `break` and `continue` keywords, have always used flag variables and if statements before\n",
    "- This should all help me to frame my coding work in a more consistent and followable way\n"
   ]
  },
  {
   "cell_type": "markdown",
   "metadata": {},
   "source": [
    "Week 2:\n",
    "- Review of Euler first order method\n",
    "- Review of classic 4th order Runge-Kutta RK4 using recursively defined functions\n",
    "- Learnt about Butcher Tableau to lay out family of explicit Runge-Kutta methods, use Butcher Tableau along with formula to calculate step size. We have the 3/8ths rule to use, also 4th order but better\n",
    "- We want to know the actual error we get with each approximation, and scaling doesn't tell us this but only how the error scales with step size. \n",
    "- Could run for step size h, then h/2, and compare results: if they're within some tolerance, say 10e-10 of eachother, then we can be confident our method is accurate. But this is inefficient\n",
    "- Instead use Butcher tableau, compare higher and lower order methods, adjust step size according to difference using formula. Since method is recursive, we can reuse lower order scheme calculations in higher order\n",
    "- Runge-Kutta-Fehlberg = ode45, used in solve.ivp as well as other things: We establish a desired tolerance, then dynamically alter the step size h at every step while solving, so that the error is just below the desired tolerance. But we increase the step size if it's too small, since we can make the code more efficient while still having the desired tolerance"
   ]
  },
  {
   "cell_type": "markdown",
   "metadata": {},
   "source": [
    "Week 3:"
   ]
  },
  {
   "cell_type": "markdown",
   "metadata": {},
   "source": []
  }
 ],
 "metadata": {
  "kernelspec": {
   "display_name": "base",
   "language": "python",
   "name": "python3"
  },
  "language_info": {
   "codemirror_mode": {
    "name": "ipython",
    "version": 3
   },
   "file_extension": ".py",
   "mimetype": "text/x-python",
   "name": "python",
   "nbconvert_exporter": "python",
   "pygments_lexer": "ipython3",
   "version": "3.9.7"
  }
 },
 "nbformat": 4,
 "nbformat_minor": 2
}
