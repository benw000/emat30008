{
 "cells": [
  {
   "cell_type": "markdown",
   "metadata": {},
   "source": [
    "---\n",
    "**Numerical continuation**\n",
    "\n",
    "Week 17 of EMAT30008\n",
    "\n",
    "https://engmaths.github.io/emat30008/odes/numericalcontinuation/\n",
    "\n",
    "(See scicomp/odefunctions.py for associated functions)\n",
    "\n",
    "Author: Ben Winstanley, yy23737@bristol.ac.uk\n",
    "\n",
    "---"
   ]
  },
  {
   "cell_type": "code",
   "execution_count": 1,
   "metadata": {},
   "outputs": [
    {
     "name": "stderr",
     "output_type": "stream",
     "text": [
      "/Applications/anaconda3/lib/python3.9/site-packages/scipy/__init__.py:146: UserWarning: A NumPy version >=1.16.5 and <1.23.0 is required for this version of SciPy (detected version 1.26.4\n",
      "  warnings.warn(f\"A NumPy version >={np_minversion} and <{np_maxversion}\"\n"
     ]
    }
   ],
   "source": [
    "import numpy as np\n",
    "import matplotlib.pyplot as plt\n",
    "from scicomp.odefunctions import *\n",
    "from scipy.optimize import fsolve"
   ]
  },
  {
   "cell_type": "markdown",
   "metadata": {},
   "source": [
    "----------\n",
    "We start by prototyping code for natural parameter continuation"
   ]
  },
  {
   "cell_type": "code",
   "execution_count": 2,
   "metadata": {},
   "outputs": [
    {
     "name": "stdout",
     "output_type": "stream",
     "text": [
      "[1.32471796]\n",
      "[1.34767277]\n"
     ]
    }
   ],
   "source": [
    "# Define basic polynomial\n",
    "def polynomial(x,c):\n",
    "    return x**3 -x + c\n",
    "\n",
    "# Write out first step by hand\n",
    "deltac = 0.1\n",
    "c0 = -1\n",
    "xpolynomial = lambda x: polynomial(x, c=c0)\n",
    "\n",
    "x0guess = 1\n",
    "x0 = fsolve(xpolynomial, x0guess)\n",
    "print(x0)\n",
    "\n",
    "c1 = c0 - deltac\n",
    "xpolynomial = lambda x: polynomial(x, c=c1)\n",
    "x1 = fsolve(xpolynomial, x0)\n",
    "print(x1)"
   ]
  },
  {
   "cell_type": "code",
   "execution_count": 5,
   "metadata": {},
   "outputs": [
    {
     "data": {
      "image/png": "[encoded data removed]",
      "text/plain": [
       "<Figure size 432x288 with 1 Axes>"
      ]
     },
     "metadata": {
      "needs_background": "light"
     },
     "output_type": "display_data"
    }
   ],
   "source": [
    "# Define a basic step function\n",
    "def natural_param_step(xi, ci):\n",
    "    c_next = ci + deltac\n",
    "    xpolynomial = lambda x: polynomial(x, c=ci)\n",
    "    x_next = fsolve(xpolynomial, xi)\n",
    "    return x_next, c_next\n",
    "\n",
    "# Do some steps\n",
    "x_store = [x0]\n",
    "c_store = [c0]\n",
    "\n",
    "x = x0\n",
    "c = c0\n",
    "for i in range(20):\n",
    "    x, c = natural_param_step(x, c)\n",
    "    x_store += [x]\n",
    "    c_store += [c]\n",
    "\n",
    "# Plot\n",
    "plt.scatter(c_store, x_store)\n",
    "plt.xlabel(\"c\")\n",
    "plt.ylabel(\"x\")\n",
    "plt.show()"
   ]
  },
  {
   "cell_type": "markdown",
   "metadata": {},
   "source": [
    "This shows a very basic natural parameter continuation for the polynomial $x^3 -x + c$. \n",
    "Note if we change `x0guess` above we get a different plot.\n",
    "\n",
    "We now do the same but for pseudo-arclength continuation."
   ]
  },
  {
   "cell_type": "markdown",
   "metadata": {},
   "source": [
    "------------\n",
    "Pseudo-arclength continuation\n"
   ]
  },
  {
   "cell_type": "code",
   "execution_count": 10,
   "metadata": {},
   "outputs": [],
   "source": [
    "# Redefine polynomial in question, we keep x in array form\n",
    "def polynomial(c: float, x: np.ndarray):\n",
    "    return x[0]**3 - x[0] + c\n",
    "\n",
    "# Setup\n",
    "c0, x0guess = -1, np.array(([1]))\n",
    "fixed_poly = lambda x: polynomial(c=c0,x=x)\n",
    "x0 = fsolve(fixed_poly, x0guess)\n",
    "\n",
    "deltac = 0.1\n",
    "c1 = c0 + deltac\n",
    "x1guess = x0\n",
    "x1 = fsolve(fixed_poly, x0)\n",
    "\n",
    "v0 = np.concatenate(([c0],x0))\n",
    "v1 = np.concatenate(([c1],x))\n",
    "\n",
    "# Initialise stores\n",
    "vstore = np.stack((v0, v1))\n",
    "v_last = v0\n",
    "v_current = v1\n",
    "num_steps = 10\n",
    "\n",
    "# Define objective function\n",
    "def objective(v: np.ndarray,):\n",
    "    original = polynomial(c=v[0], x=v[1:])\n",
    "    pseudo_arclength_eq = np.dot((v - v_next_guess),secant))\n",
    "    \n",
    "for i in range(num_steps):\n",
    "    secant = v_current - v_last\n",
    "    v_next_guess = v_current + secant\n"
   ]
  },
  {
   "cell_type": "markdown",
   "metadata": {},
   "source": [
    "\n",
    "TODO: \n",
    "-solve $x^3 - x + c = 0$ on paper so we know what to look for\n",
    "\n",
    "-look at paper notes in folder for review\n",
    "\n",
    "-implement pseudo-arclength continuation, perhaps find nice way to plot search lines\n",
    "\n",
    "-make and test framework that can take this and use it for the limit cycle shooting problem, or for equillibria finding. Look at dictionary vs array of parameters, choosing which param to vary etc.\n",
    "\n",
    "-make functionality to do continuation backwards, and functionality to run continuation multiple times and add new points\n",
    "\n",
    "-should reproduce some of the tools that XPPauto uses."
   ]
  },
  {
   "cell_type": "markdown",
   "metadata": {},
   "source": []
  },
  {
   "cell_type": "code",
   "execution_count": 12,
   "metadata": {},
   "outputs": [
    {
     "name": "stdout",
     "output_type": "stream",
     "text": [
      "[[2 3 6]\n",
      " [2 3 4]]\n"
     ]
    }
   ],
   "source": [
    "foo = np.array(([2,3,4]))\n",
    "boo = np.array(([2,3,6]))\n",
    "doo = np.stack((boo, foo))\n",
    "print(doo)"
   ]
  },
  {
   "cell_type": "code",
   "execution_count": null,
   "metadata": {},
   "outputs": [],
   "source": []
  }
 ],
 "metadata": {
  "kernelspec": {
   "display_name": "base",
   "language": "python",
   "name": "python3"
  },
  "language_info": {
   "codemirror_mode": {
    "name": "ipython",
    "version": 3
   },
   "file_extension": ".py",
   "mimetype": "text/x-python",
   "name": "python",
   "nbconvert_exporter": "python",
   "pygments_lexer": "ipython3",
   "version": "3.9.7"
  }
 },
 "nbformat": 4,
 "nbformat_minor": 2
}
