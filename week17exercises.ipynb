{
 "cells": [
  {
   "cell_type": "markdown",
   "metadata": {},
   "source": [
    "---\n",
    "**Numerical continuation**\n",
    "\n",
    "Week 17 of EMAT30008\n",
    "\n",
    "https://engmaths.github.io/emat30008/odes/numericalcontinuation/\n",
    "\n",
    "(See scicomp/odefunctions.py for associated functions)\n",
    "\n",
    "Author: Ben Winstanley, yy23737@bristol.ac.uk\n",
    "\n",
    "---"
   ]
  },
  {
   "cell_type": "code",
   "execution_count": 6,
   "metadata": {},
   "outputs": [
    {
     "name": "stderr",
     "output_type": "stream",
     "text": [
      "/Applications/anaconda3/lib/python3.9/site-packages/scipy/__init__.py:146: UserWarning: A NumPy version >=1.16.5 and <1.23.0 is required for this version of SciPy (detected version 1.26.4\n",
      "  warnings.warn(f\"A NumPy version >={np_minversion} and <{np_maxversion}\"\n"
     ]
    }
   ],
   "source": [
    "import numpy as np\n",
    "import matplotlib.pyplot as plt\n",
    "from scicomp.odefunctions import *\n",
    "from scipy.optimize import root"
   ]
  },
  {
   "cell_type": "markdown",
   "metadata": {},
   "source": [
    "----------\n",
    "We start by prototyping code for natural parameter continuation\n",
    "\n",
    "We first conduct a single step of natural parameter continuation in the following cell:"
   ]
  },
  {
   "cell_type": "code",
   "execution_count": 8,
   "metadata": {},
   "outputs": [
    {
     "name": "stdout",
     "output_type": "stream",
     "text": [
      "x_0 = [1.32471796]\n",
      "x_1 = [1.30073658]\n"
     ]
    }
   ],
   "source": [
    "# Define a basic polynomial with a parameter c\n",
    "def polynomial(x,c):\n",
    "    return x**3 -x + c\n",
    "\n",
    "# Write out first step by hand\n",
    "deltac = 0.1\n",
    "c0 = -1\n",
    "\n",
    "# Freeze the polynomial with c=c0, \n",
    "# Use root finding with an initial guess to find the corresponding root\n",
    "xpolynomial = lambda x: polynomial(x, c=c0)\n",
    "x0guess = 1\n",
    "x0 = root(xpolynomial, x0guess).x\n",
    "print(\"x_0 =\", x0)\n",
    "\n",
    "# Update the parameter c, and use the last solution as our initial guess\n",
    "c1 = c0 + deltac\n",
    "xpolynomial = lambda x: polynomial(x, c=c1)\n",
    "x1 = root(xpolynomial, x0).x\n",
    "print(\"x_1 =\",x1)"
   ]
  },
  {
   "cell_type": "markdown",
   "metadata": {},
   "source": [
    "We now conduct multiple steps of natural parameter continuation and plot the result"
   ]
  },
  {
   "cell_type": "code",
   "execution_count": 11,
   "metadata": {},
   "outputs": [
    {
     "data": {
      "image/png": "[encoded data removed]",
      "text/plain": [
       "<Figure size 432x288 with 1 Axes>"
      ]
     },
     "metadata": {
      "needs_background": "light"
     },
     "output_type": "display_data"
    }
   ],
   "source": [
    "# Define basic polynomial\n",
    "def polynomial(x,c):\n",
    "    return x**3 -x + c\n",
    "\n",
    "# Write out first step by hand\n",
    "c0 = 1\n",
    "deltac = 0.1\n",
    "x0guess = -5\n",
    "xpolynomial = lambda x: polynomial(x, c=c0)\n",
    "x0 = root(xpolynomial, x0guess).x\n",
    "\n",
    "# Define a basic step function\n",
    "def natural_param_step(xi, ci):\n",
    "    c_next = ci + deltac\n",
    "    xpolynomial = lambda x: polynomial(x, c=c_next)\n",
    "    x_next = root(xpolynomial, xi).x\n",
    "    return x_next, c_next\n",
    "\n",
    "# Do some steps\n",
    "x_store = [x0]\n",
    "c_store = [c0]\n",
    "\n",
    "x = x0\n",
    "c = c0\n",
    "for i in range(100):\n",
    "    x, c = natural_param_step(x, c)\n",
    "    x_store += [x]\n",
    "    c_store += [c]\n",
    "\n",
    "# Plot\n",
    "plt.scatter(c_store, x_store)\n",
    "plt.xlabel(\"c\")\n",
    "plt.ylabel(\"x\")\n",
    "plt.show()"
   ]
  },
  {
   "cell_type": "markdown",
   "metadata": {},
   "source": [
    "This shows a very basic natural parameter continuation for the polynomial $x^3 -x + c$. \n",
    "Note if we change `x0guess` above we get a different plot.\n",
    "\n",
    "We now do the same but for pseudo-arclength continuation."
   ]
  },
  {
   "cell_type": "markdown",
   "metadata": {},
   "source": [
    "------------\n",
    "Pseudo-arclength continuation\n"
   ]
  },
  {
   "cell_type": "code",
   "execution_count": 20,
   "metadata": {},
   "outputs": [
    {
     "name": "stdout",
     "output_type": "stream",
     "text": [
      "[[ 1.         -1.32471796]\n",
      " [ 1.1        -1.34767277]\n",
      " [ 1.20020117 -1.36975121]\n",
      " [ 1.30057788 -1.39103297]\n",
      " [ 1.40110893 -1.41158678]\n",
      " [ 1.50177659 -1.43147239]\n",
      " [ 1.60256592 -1.45074207]\n",
      " [ 1.70346421 -1.46944185]\n",
      " [ 1.80446057 -1.48761251]\n",
      " [ 1.90554559 -1.50529035]\n",
      " [ 2.00671112 -1.52250783]\n",
      " [ 2.10795003 -1.53929413]]\n"
     ]
    },
    {
     "data": {
      "image/png": "[encoded data removed]",
      "text/plain": [
       "<Figure size 432x288 with 1 Axes>"
      ]
     },
     "metadata": {
      "needs_background": "light"
     },
     "output_type": "display_data"
    }
   ],
   "source": [
    "# Redefine polynomial in question, we set x to be an array for future generalisation\n",
    "def polynomial(c: float, x: np.ndarray):\n",
    "    return x[0]**3 - x[0] + c\n",
    "\n",
    "# Start with c0 and an x_0 guess, find x_0\n",
    "c0, x0guess = 1, np.array(([-5]))\n",
    "fixed_poly = lambda x: polynomial(c=c0,x=x)\n",
    "x0 = root(fixed_poly, x0guess).x\n",
    "\n",
    "# Conduct a single step of natural parameter continuation to obtain x_1\n",
    "deltac = 0.1\n",
    "c1 = c0 + deltac\n",
    "fixed_poly = lambda x: polynomial(c=c1,x=x)\n",
    "x1guess = x0\n",
    "x1 = root(fixed_poly, x1guess).x\n",
    "\n",
    "# Construct v0 and v1 vectors\n",
    "v0 = np.concatenate(([c0],x0))\n",
    "v1 = np.concatenate(([c1],x1))\n",
    "\n",
    "# Initialise stores for looping\n",
    "v_store = np.stack((v0, v1))\n",
    "v_last = v0\n",
    "v_current = v1\n",
    "num_steps = 10\n",
    "\n",
    "# Define objective function used for root finding in each step\n",
    "def psa_objective(v: np.ndarray, v_next_guess: np.ndarray, secant: np.ndarray):\n",
    "    original = polynomial(c=v[0], x=v[1:])\n",
    "    pseudo_arclength_eq = np.dot((v - v_next_guess),secant)\n",
    "    return np.array(([original, pseudo_arclength_eq]))\n",
    "\n",
    "# Conduct num_steps many steps of pseudo-arclength continuation\n",
    "for i in range(num_steps):\n",
    "    # Calculate secant and next guess\n",
    "    secant = v_current - v_last\n",
    "    v_next_guess = v_current + secant\n",
    "\n",
    "    # Define current objective function and find its root for v_next\n",
    "    current_objective = lambda v: psa_objective(v, v_next_guess, secant)\n",
    "    v_next = root(current_objective, v_next_guess).x\n",
    "\n",
    "    # Update\n",
    "    v_store = np.vstack((v_store, v_next))\n",
    "    v_last = v_current\n",
    "    v_current = v_next\n",
    "\n",
    "# Print and plot our final store\n",
    "print(v_store)\n",
    "plt.plot(v_store[:,0], v_store[:,1])\n",
    "plt.show()"
   ]
  },
  {
   "cell_type": "markdown",
   "metadata": {},
   "source": [
    "-------\n",
    "We now write functions for both to generalise the methods, still specific to this ode function. After this we will develop code to take limit cycle or equillibrium points as our objectives."
   ]
  },
  {
   "cell_type": "code",
   "execution_count": 10,
   "metadata": {},
   "outputs": [
    {
     "data": {
      "image/png": "[encoded data removed]",
      "text/plain": [
       "<Figure size 432x288 with 1 Axes>"
      ]
     },
     "metadata": {
      "needs_background": "light"
     },
     "output_type": "display_data"
    },
    {
     "data": {
      "image/png": "[encoded data removed]",
      "text/plain": [
       "<Figure size 432x288 with 1 Axes>"
      ]
     },
     "metadata": {
      "needs_background": "light"
     },
     "output_type": "display_data"
    }
   ],
   "source": [
    "def numerical_continuation_polynomial(polynomial, c0, delta_c, x0guess, num_steps, method):\n",
    "    \n",
    "    # Fix parameter in polynomial function\n",
    "    fixed_poly = lambda x: polynomial(c=c0,x=x)\n",
    "\n",
    "    # Find x0, here by root finding on objective fixed_poly\n",
    "    x0 = root(fixed_poly, x0guess).x\n",
    "\n",
    "    # Update c by delta_c, do the same thing\n",
    "    c1 = c0 + delta_c\n",
    "    fixed_poly = lambda x: polynomial(c=c1,x=x)\n",
    "    x1guess = x0\n",
    "    x1 = root(fixed_poly, x1guess).x\n",
    "\n",
    "    if method == 'NPC':\n",
    "        # Construct stores\n",
    "        x_store = np.vstack((x0,x1))\n",
    "        c_store = [c0,c1]\n",
    "        x_current = x1\n",
    "        c_current = c1\n",
    "        \n",
    "        # Loop over number of steps\n",
    "        for i in range(num_steps):\n",
    "            # Update c by delta_c\n",
    "            c_next = c_current + delta_c\n",
    "\n",
    "            # Fix the objective function and find the next solution\n",
    "            fixed_poly = lambda x: polynomial(c=c_next, x=x)\n",
    "            x_next = root(fixed_poly, x_current).x\n",
    "\n",
    "            # Update stores and then current values\n",
    "            x_store = np.vstack((x_store, x_next))\n",
    "            c_store += [c_next]\n",
    "            x_current = x_next\n",
    "            c_current = c_next\n",
    "    \n",
    "    elif method == 'PAC':\n",
    "        # Construct v0 and v1 vectors\n",
    "        v0 = np.concatenate(([c0],x0))\n",
    "        v1 = np.concatenate(([c1],x1))\n",
    "\n",
    "        # Construct stores\n",
    "        v_store = np.stack((v0, v1))\n",
    "        v_last = v0\n",
    "        v_current = v1\n",
    "\n",
    "        # Define objective function used for root finding in each step\n",
    "        def psa_objective(v: np.ndarray, v_next_guess: np.ndarray, secant: np.ndarray):\n",
    "            original = polynomial(c=v[0], x=v[1:])\n",
    "            pseudo_arclength_eq = np.dot((v - v_next_guess),secant)\n",
    "            return np.array(([original, pseudo_arclength_eq]))\n",
    "        \n",
    "        # Conduct num_steps many steps of pseudo-arclength continuation\n",
    "        for i in range(num_steps):\n",
    "            # Calculate secant and next guess\n",
    "            secant = v_current - v_last\n",
    "            v_next_guess = v_current + secant\n",
    "\n",
    "            # Define current objective function and find its root for v_next\n",
    "            current_objective = lambda v: psa_objective(v, v_next_guess, secant)\n",
    "            v_next = root(current_objective, v_next_guess).x\n",
    "\n",
    "            # Update\n",
    "            v_store = np.vstack((v_store, v_next))\n",
    "            v_last = v_current\n",
    "            v_current = v_next\n",
    "        \n",
    "        # Unpack v_store into x and c\n",
    "        c_store, x_store = v_store[:,0], v_store[:,1]\n",
    "\n",
    "    return x_store, c_store\n",
    "        \n",
    "        \n",
    "def polynomial(c,x):\n",
    "    return x[0]**3 - x[0] + c\n",
    "\n",
    "x_store, c_store = numerical_continuation_polynomial(polynomial=polynomial,\n",
    "                                                      c0=-1, delta_c=0.01,\n",
    "                                                      x0guess=np.array(([-5])),\n",
    "                                                      num_steps=100,\n",
    "                                                      method='NPC')\n",
    "\n",
    "plt.plot(c_store, x_store)\n",
    "plt.show()\n",
    "\n",
    "x_store, c_store = numerical_continuation_polynomial(polynomial=polynomial,\n",
    "                                                      c0=-1, delta_c=0.01,\n",
    "                                                      x0guess=np.array(([-5])),\n",
    "                                                      num_steps=100,\n",
    "                                                      method='PAC')\n",
    "\n",
    "plt.plot(c_store, x_store)\n",
    "plt.show()"
   ]
  },
  {
   "cell_type": "markdown",
   "metadata": {},
   "source": [
    "\n",
    "TODO: \n",
    "-solve $x^3 - x + c = 0$ on paper so we know what to look for\n",
    "\n",
    "-look at paper notes in folder for review\n",
    "\n",
    "-implement pseudo-arclength continuation, perhaps find nice way to plot search lines\n",
    "\n",
    "-make and test framework that can take this and use it for the limit cycle shooting problem, or for equillibria finding. Look at dictionary vs array of parameters, choosing which param to vary etc.\n",
    "\n",
    "-make functionality to do continuation backwards, and functionality to run continuation multiple times and add new points\n",
    "\n",
    "-should reproduce some of the tools that XPPauto uses."
   ]
  },
  {
   "cell_type": "markdown",
   "metadata": {},
   "source": []
  }
 ],
 "metadata": {
  "kernelspec": {
   "display_name": "base",
   "language": "python",
   "name": "python3"
  },
  "language_info": {
   "codemirror_mode": {
    "name": "ipython",
    "version": 3
   },
   "file_extension": ".py",
   "mimetype": "text/x-python",
   "name": "python",
   "nbconvert_exporter": "python",
   "pygments_lexer": "ipython3",
   "version": "3.9.7"
  }
 },
 "nbformat": 4,
 "nbformat_minor": 2
}
