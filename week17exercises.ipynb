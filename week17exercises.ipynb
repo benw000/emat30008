{
 "cells": [
  {
   "cell_type": "markdown",
   "metadata": {},
   "source": [
    "---\n",
    "**Numerical continuation**\n",
    "\n",
    "Week 17 of EMAT30008\n",
    "\n",
    "https://engmaths.github.io/emat30008/odes/numericalcontinuation/\n",
    "\n",
    "(See scicomp/odefunctions.py for associated functions)\n",
    "\n",
    "Author: Ben Winstanley, yy23737@bristol.ac.uk\n",
    "\n",
    "---"
   ]
  },
  {
   "cell_type": "code",
   "execution_count": 3,
   "metadata": {},
   "outputs": [],
   "source": [
    "import numpy as np\n",
    "import matplotlib.pyplot as plt\n",
    "from scicomp.odefunctions import *\n",
    "from scipy.optimize import root"
   ]
  },
  {
   "cell_type": "markdown",
   "metadata": {},
   "source": [
    "----------\n",
    "We start by prototyping code for natural parameter continuation\n",
    "\n",
    "We first conduct a single step of natural parameter continuation in the following cell:"
   ]
  },
  {
   "cell_type": "code",
   "execution_count": 8,
   "metadata": {},
   "outputs": [
    {
     "name": "stdout",
     "output_type": "stream",
     "text": [
      "x_0 = [1.32471796]\n",
      "x_1 = [1.30073658]\n"
     ]
    }
   ],
   "source": [
    "# Define a basic polynomial with a parameter c\n",
    "def polynomial(x,c):\n",
    "    return x**3 -x + c\n",
    "\n",
    "# Write out first step by hand\n",
    "deltac = 0.1\n",
    "c0 = -1\n",
    "\n",
    "# Freeze the polynomial with c=c0, \n",
    "# Use root finding with an initial guess to find the corresponding root\n",
    "xpolynomial = lambda x: polynomial(x, c=c0)\n",
    "x0guess = 1\n",
    "x0 = root(xpolynomial, x0guess).x\n",
    "print(\"x_0 =\", x0)\n",
    "\n",
    "# Update the parameter c, and use the last solution as our initial guess\n",
    "c1 = c0 + deltac\n",
    "xpolynomial = lambda x: polynomial(x, c=c1)\n",
    "x1 = root(xpolynomial, x0).x\n",
    "print(\"x_1 =\",x1)"
   ]
  },
  {
   "cell_type": "code",
   "execution_count": 20,
   "metadata": {},
   "outputs": [
    {
     "name": "stdout",
     "output_type": "stream",
     "text": [
      "[-1.32471796]\n"
     ]
    },
    {
     "data": {
      "image/png": "[encoded data removed]",
      "text/plain": [
       "<Figure size 432x288 with 1 Axes>"
      ]
     },
     "metadata": {
      "needs_background": "light"
     },
     "output_type": "display_data"
    }
   ],
   "source": [
    "# Define basic polynomial\n",
    "def polynomial(x,c):\n",
    "    return x**3 -x + c\n",
    "\n",
    "# Write out first step by hand\n",
    "c0 = 1\n",
    "deltac = 0.1\n",
    "x0guess = -5\n",
    "xpolynomial = lambda x: polynomial(x, c=c0)\n",
    "x0 = fsolve(xpolynomial, x0guess)\n",
    "print(x0)\n",
    "\n",
    "# Define a basic step function\n",
    "def natural_param_step(xi, ci):\n",
    "    c_next = ci + deltac\n",
    "    xpolynomial = lambda x: polynomial(x, c=c_next)\n",
    "    x_next = fsolve(xpolynomial, xi)\n",
    "    return x_next, c_next\n",
    "\n",
    "# Do some steps\n",
    "x_store = [x0]\n",
    "c_store = [c0]\n",
    "\n",
    "x = x0\n",
    "c = c0\n",
    "for i in range(100):\n",
    "    x, c = natural_param_step(x, c)\n",
    "    x_store += [x]\n",
    "    c_store += [c]\n",
    "\n",
    "# Plot\n",
    "plt.scatter(c_store, x_store)\n",
    "plt.xlabel(\"c\")\n",
    "plt.ylabel(\"x\")\n",
    "plt.show()"
   ]
  },
  {
   "cell_type": "markdown",
   "metadata": {},
   "source": [
    "This shows a very basic natural parameter continuation for the polynomial $x^3 -x + c$. \n",
    "Note if we change `x0guess` above we get a different plot.\n",
    "\n",
    "We now do the same but for pseudo-arclength continuation."
   ]
  },
  {
   "cell_type": "markdown",
   "metadata": {},
   "source": [
    "------------\n",
    "Pseudo-arclength continuation\n"
   ]
  },
  {
   "cell_type": "code",
   "execution_count": 21,
   "metadata": {},
   "outputs": [
    {
     "name": "stdout",
     "output_type": "stream",
     "text": [
      "[[10.         -2.30890732]\n",
      " [ 9.999      -2.37364982]\n",
      " [12.80298865 -2.48171763]\n",
      " [15.60534182 -2.63222047]\n",
      " [18.40856239 -2.76657254]\n",
      " [21.2123767  -2.88853631]\n",
      " [24.01661995 -3.00063909]\n",
      " [26.82118586 -3.1046706 ]\n",
      " [29.62600222 -3.20195039]\n",
      " [32.43101792 -3.29348272]\n",
      " [35.23619557 -3.3800518 ]\n",
      " [38.04150709 -3.46228319]]\n"
     ]
    },
    {
     "data": {
      "text/plain": [
       "[<matplotlib.lines.Line2D at 0x7f92a882c970>]"
      ]
     },
     "execution_count": 21,
     "metadata": {},
     "output_type": "execute_result"
    },
    {
     "data": {
      "image/png": "[encoded data removed]",
      "text/plain": [
       "<Figure size 432x288 with 1 Axes>"
      ]
     },
     "metadata": {
      "needs_background": "light"
     },
     "output_type": "display_data"
    }
   ],
   "source": [
    "# Redefine polynomial in question, we keep x in array form\n",
    "def polynomial(c: float, x: np.ndarray):\n",
    "    return x[0]**3 - x[0] + c\n",
    "\n",
    "# Setup\n",
    "c0, x0guess = 10, np.array(([-10]))\n",
    "fixed_poly = lambda x: polynomial(c=c0,x=x)\n",
    "x0 = fsolve(fixed_poly, x0guess)\n",
    "\n",
    "deltac = -0.001\n",
    "c1 = c0 + deltac\n",
    "x1guess = x0\n",
    "x1 = fsolve(fixed_poly, x0)\n",
    "\n",
    "v0 = np.concatenate(([c0],x0))\n",
    "v1 = np.concatenate(([c1],x1))\n",
    "\n",
    "# Initialise stores\n",
    "v_store = np.stack((v0, v1))\n",
    "v_last = v0\n",
    "v_current = v1\n",
    "num_steps = 10\n",
    "\n",
    "# Define objective function\n",
    "def objective(v: np.ndarray, v_next_guess: np.ndarray, secant: np.ndarray):\n",
    "    original = polynomial(c=v[0], x=v[1:])\n",
    "    pseudo_arclength_eq = np.dot((v - v_next_guess),secant)\n",
    "    return np.array(([original, pseudo_arclength_eq]))\n",
    "\n",
    "for i in range(num_steps):\n",
    "    # Calculate secant and next guess\n",
    "    secant = v_current - v_last\n",
    "    v_next_guess = v_current + secant\n",
    "\n",
    "    # Define current objective function and solve for v_next\n",
    "    current_objective = lambda v: objective(v, v_next_guess, secant)\n",
    "    v_next = fsolve(current_objective, v_next_guess)\n",
    "\n",
    "    # Update\n",
    "    v_store = np.vstack((v_store, v_next))\n",
    "    v_last = v_current\n",
    "    v_current = v_next\n",
    "\n",
    "print(v_store)\n",
    "plt.plot(v_store[:,0], v_store[:,1])"
   ]
  },
  {
   "cell_type": "markdown",
   "metadata": {},
   "source": [
    "We now write functions for both to generalise the methods"
   ]
  },
  {
   "cell_type": "code",
   "execution_count": null,
   "metadata": {},
   "outputs": [],
   "source": [
    "def natural_param_cont(objective, init_param, init_solution_guess, param_step, num_steps):\n",
    "    \n",
    "    "
   ]
  },
  {
   "cell_type": "markdown",
   "metadata": {},
   "source": [
    "\n",
    "TODO: \n",
    "-solve $x^3 - x + c = 0$ on paper so we know what to look for\n",
    "\n",
    "-look at paper notes in folder for review\n",
    "\n",
    "-implement pseudo-arclength continuation, perhaps find nice way to plot search lines\n",
    "\n",
    "-make and test framework that can take this and use it for the limit cycle shooting problem, or for equillibria finding. Look at dictionary vs array of parameters, choosing which param to vary etc.\n",
    "\n",
    "-make functionality to do continuation backwards, and functionality to run continuation multiple times and add new points\n",
    "\n",
    "-should reproduce some of the tools that XPPauto uses."
   ]
  },
  {
   "cell_type": "markdown",
   "metadata": {},
   "source": []
  },
  {
   "cell_type": "code",
   "execution_count": 12,
   "metadata": {},
   "outputs": [
    {
     "name": "stdout",
     "output_type": "stream",
     "text": [
      "[[2 3 6]\n",
      " [2 3 4]]\n"
     ]
    }
   ],
   "source": []
  },
  {
   "cell_type": "code",
   "execution_count": null,
   "metadata": {},
   "outputs": [],
   "source": []
  }
 ],
 "metadata": {
  "kernelspec": {
   "display_name": "base",
   "language": "python",
   "name": "python3"
  },
  "language_info": {
   "codemirror_mode": {
    "name": "ipython",
    "version": 3
   },
   "file_extension": ".py",
   "mimetype": "text/x-python",
   "name": "python",
   "nbconvert_exporter": "python",
   "pygments_lexer": "ipython3",
   "version": "3.9.7"
  }
 },
 "nbformat": 4,
 "nbformat_minor": 2
}
