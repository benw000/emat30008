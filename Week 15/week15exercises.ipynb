{
 "cells": [
  {
   "cell_type": "markdown",
   "metadata": {},
   "source": [
    "---\n",
    "**Introduction to Numerical Shooting**\n",
    "\n",
    "Week 15 of EMAT30008\n",
    "\n",
    "https://engmaths.github.io/emat30008/odes/numericalshooting/ \n",
    "\n",
    "(See week15funcs.py for associated functions)\n",
    "\n",
    "Author: Ben Winstanley, yy23737@bristol.ac.uk\n",
    "\n",
    "---"
   ]
  },
  {
   "cell_type": "code",
   "execution_count": 2,
   "metadata": {},
   "outputs": [],
   "source": [
    "import numpy as np\n",
    "import scipy as sp \n",
    "import matplotlib.pyplot as plt\n",
    "import os\n",
    "import time\n",
    "\n",
    "# Move to parent directory, then w14, import, change back\n",
    "# TODO: make this importing less hard coded to folder names\n",
    "os.chdir(os.path.pardir)\n",
    "os.chdir(\"Week 14\")\n",
    "from week14funcs import euler_step, solve_to \n",
    "os.chdir(os.path.pardir)\n",
    "os.chdir(\"Week 15\")\n"
   ]
  },
  {
   "cell_type": "markdown",
   "metadata": {},
   "source": [
    "-------\n",
    "*Simulating Predator Prey Equations*\n",
    "\n",
    "$ \\frac{dx}{dt} = x(1-x) - \\frac{axy}{d+x} $\n",
    "\n",
    "$ \\frac{dy}{dt} = by(1 - \\frac{y}{x}) $\n",
    "\n",
    "set a = 1, b $\\in [0.1,0.5]$"
   ]
  },
  {
   "cell_type": "markdown",
   "metadata": {},
   "source": []
  }
 ],
 "metadata": {
  "kernelspec": {
   "display_name": "base",
   "language": "python",
   "name": "python3"
  },
  "language_info": {
   "codemirror_mode": {
    "name": "ipython",
    "version": 3
   },
   "file_extension": ".py",
   "mimetype": "text/x-python",
   "name": "python",
   "nbconvert_exporter": "python",
   "pygments_lexer": "ipython3",
   "version": "3.9.7"
  }
 },
 "nbformat": 4,
 "nbformat_minor": 2
}
