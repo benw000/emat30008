{
 "cells": [
  {
   "cell_type": "markdown",
   "metadata": {},
   "source": [
    "---\n",
    "**Introduction to Numerical Shooting**\n",
    "\n",
    "Week 15 of EMAT30008\n",
    "\n",
    "https://engmaths.github.io/emat30008/odes/numericalshooting/ \n",
    "\n",
    "(See week15funcs.py for associated functions)\n",
    "\n",
    "Author: Ben Winstanley, yy23737@bristol.ac.uk\n",
    "\n",
    "---"
   ]
  },
  {
   "cell_type": "code",
   "execution_count": 2,
   "metadata": {},
   "outputs": [],
   "source": [
    "import numpy as np\n",
    "import scipy as sp \n",
    "import matplotlib.pyplot as plt\n",
    "import os\n",
    "import time\n",
    "\n",
    "# Move to parent directory, then w14, import, change back\n",
    "# TODO: make this importing less hard coded to folder names\n",
    "os.chdir(os.path.pardir)\n",
    "os.chdir(\"Week 14\")\n",
    "from week14funcs import euler_step, solve_to \n",
    "os.chdir(os.path.pardir)\n",
    "os.chdir(\"Week 15\")\n"
   ]
  },
  {
   "cell_type": "markdown",
   "metadata": {},
   "source": [
    "-------\n",
    "*Simulating Predator Prey Equations*\n",
    "\n",
    "$ \\frac{dx}{dt} = x(1-x) - \\frac{axy}{d+x} $\n",
    "\n",
    "$ \\frac{dy}{dt} = by(1 - \\frac{y}{x}) $\n",
    "\n",
    "set a = 1, d = 0.1, b $\\in [0.1,0.5]$\n",
    "\n",
    "We'll choose x=1,y=1 as initial conditions"
   ]
  },
  {
   "cell_type": "code",
   "execution_count": null,
   "metadata": {},
   "outputs": [],
   "source": [
    "# Define ODE function f(x,t)\n",
    "def predator_prey(x: np.ndarray, t: float):\n",
    "    '''\n",
    "    Defines RHS for Predator Prey system\n",
    "    '''\n",
    "    # Define constants inside function for now\n",
    "    a = 1\n",
    "    d = 0.1\n",
    "    b =0.2\n",
    "\n",
    "    dxdt = x[0]*(1-x[0]) - (a*x[0]*x[1])/(d+x[0])\n",
    "    dydt = b*x[1]*(1-(x[1]/x[0]))\n",
    "    return np.array((dxdt, dydt))"
   ]
  }
 ],
 "metadata": {
  "kernelspec": {
   "display_name": "base",
   "language": "python",
   "name": "python3"
  },
  "language_info": {
   "codemirror_mode": {
    "name": "ipython",
    "version": 3
   },
   "file_extension": ".py",
   "mimetype": "text/x-python",
   "name": "python",
   "nbconvert_exporter": "python",
   "pygments_lexer": "ipython3",
   "version": "3.9.7"
  }
 },
 "nbformat": 4,
 "nbformat_minor": 2
}
