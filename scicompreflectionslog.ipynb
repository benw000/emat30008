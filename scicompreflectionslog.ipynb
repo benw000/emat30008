{
 "cells": [
  {
   "cell_type": "markdown",
   "metadata": {},
   "source": [
    "**Reflective Learning Log**\n",
    "\n",
    "Write down learnings each week and progress made as software engineer\n",
    "- What did I learn about the mathematical algorithms?\n",
    "- What did I learn about software engineering? Have my abilities progressed?\n",
    "- When will this be useful in the short term?\n",
    "- When will this be useful in the long term?\n",
    "- What would I have done differently starting again?\n",
    "- What will I do differently now on?"
   ]
  },
  {
   "cell_type": "markdown",
   "metadata": {},
   "source": [
    "Week 13:\n",
    "- Learnt about github and framework for saving versions of code, I can see how this could be useful and a good way to work in a team setting\n",
    "- Set up VSCode with Jupyter notebooks and git, set up my first git repository\n",
    "- Learnt about .py files versus .ipynb, and how you can call functions and variables from different python files; this allows things to be modular and linear - could call other files into a py file and linearly construct more complicated things\n",
    "- Learnt about dictionaries and how they work, should become quite useful\n",
    "- Learnt how to use `break` and `continue` keywords, have always used flag variables and if statements before\n",
    "- This should all help me to frame my coding work in a more consistent and followable way\n"
   ]
  },
  {
   "cell_type": "markdown",
   "metadata": {},
   "source": [
    "Week 14:\n",
    "- Review of Euler first order method\n",
    "- Review of classic 4th order Runge-Kutta RK4 using recursively defined functions\n",
    "- Learnt about Butcher Tableau to lay out family of explicit Runge-Kutta methods, use Butcher Tableau along with formula to calculate step size. We have the 3/8ths rule to use, also 4th order but better\n",
    "- We want to know the actual error we get with each approximation, and scaling doesn't tell us this but only how the error scales with step size. \n",
    "- Could run for step size h, then h/2, and compare results: if they're within some tolerance, say 10e-10 of eachother, then we can be confident our method is accurate. But this is inefficient\n",
    "- Instead use Butcher tableau, compare higher and lower order methods, adjust step size according to difference using formula. Since method is recursive, we can reuse lower order scheme calculations in higher order\n",
    "- Runge-Kutta-Fehlberg = ode45, used in solve.ivp as well as other things: We establish a desired tolerance, then dynamically alter the step size h at every step while solving, so that the error is just below the desired tolerance. But we increase the step size if it's too small, since we can make the code more efficient while still having the desired tolerance\n",
    "\n",
    "- Learnt that I need to repeatedly restart the Kernel and Clear All Outputs between ipynb and py files. Update a py file in the file, save it and close it. Then on ipynb, Clear All Outputs, Restart Kernel and Run. Kernel seems to hang on to old versions of function a bit like MATLAB.\n",
    "- NumPy functions 'vstack', 'hstack', 'concatenate', 'stack' are very confusing. Need someone to explain exactly how they're different.\n",
    "- NumPy vector is a different data type to numpy array - "
   ]
  },
  {
   "cell_type": "markdown",
   "metadata": {},
   "source": [
    "Week 15:"
   ]
  },
  {
   "cell_type": "markdown",
   "metadata": {},
   "source": [
    "- Learnt about numerical shooting and phase conditions\n",
    "- Learnt how to use the python Literal module to specify which values a parameter could take\n",
    "- Came up with a basic way to determine the period of a periodic orbit\n",
    "- Learnt how to use scipy.optimize.root for use with limit_cycle_condition\n",
    "- Made a nice function limit_cycle_condition and find_limit_cycle with comprehensive descriptions\n",
    "- Learnt how to use lambda functions in python to pass a function as an argument, with some of its input parameters fixed\n",
    "- Code didn't work as intended, had to implement extra functionality, which meant adapting a base function and then propagating the changes through any other functions that call this function, making decisions about how much level of detail the user should be spared\n",
    "- These different practices will be very helpful later on. lambdas, literal, etc\n"
   ]
  },
  {
   "cell_type": "markdown",
   "metadata": {},
   "source": [
    "Week 16:"
   ]
  },
  {
   "cell_type": "markdown",
   "metadata": {},
   "source": [
    "-learnt about importance of unit testing and doctesting\n",
    "-learnt standards for numpy docstring function description\n",
    "-conducted lots of bug fixes, had to convert root finding problem into a minimisation problem\n",
    "-learnt how to put things into a python package for easy importing\n",
    "-edited lots of code to try to clarify and make code more concise, DRY principles"
   ]
  },
  {
   "cell_type": "markdown",
   "metadata": {},
   "source": [
    "Week 17:"
   ]
  },
  {
   "cell_type": "markdown",
   "metadata": {},
   "source": [
    "Week 19:\n",
    "\n",
    "- learnt about a range of different numerical schemes for diffusion problems. Through approximating space as a discrete set of points, and using a centred 2nd order scheme for the second derivative, we convert the 2nd order differential equation into a set of coupled linear equations, which can be written in matrix form and solved quickly using existing linear algebra packages like numpy. \n",
    "\n",
    "- Learnt that Gaussian elimination is O(N^2), Thomas is O(N) and Inverse is O(N^3), meaning we should never use inverse as for large N > 100 this means speed ups of 100 times\n",
    "\n",
    "- Idea of ghost points quite useful to convert derivative boundary conditions into effective dirichlet conditions on a larger grid. This method allows us to tackle Dirichlet, Neumann and Robin conditions using the same infrastructure, by just slightly adjusting the values in our matrix equation. \n",
    "\n",
    "- Nice idea to seperate A and b which vary based on boundary conditions to the rest of the components, allows for easy and clear seperation of concerns\n",
    "\n",
    "- Learnt that depending on the source term q, we either have a linear equation to solve or a nonlinear one to solve: in the case of a nonlinear system we have more work where we must define an objective function to find the root of, and also supply an initial guess for the solution.\n"
   ]
  }
 ],
 "metadata": {
  "kernelspec": {
   "display_name": "base",
   "language": "python",
   "name": "python3"
  },
  "language_info": {
   "codemirror_mode": {
    "name": "ipython",
    "version": 3
   },
   "file_extension": ".py",
   "mimetype": "text/x-python",
   "name": "python",
   "nbconvert_exporter": "python",
   "pygments_lexer": "ipython3",
   "version": "3.9.7"
  }
 },
 "nbformat": 4,
 "nbformat_minor": 2
}
