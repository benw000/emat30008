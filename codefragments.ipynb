{
 "cells": [
  {
   "cell_type": "markdown",
   "metadata": {},
   "source": [
    "**Code Fragments**\n",
    "\n",
    "Use this notebook as a place to store tidbits of code that you haven't seen before, in a minimally viable setting"
   ]
  },
  {
   "cell_type": "code",
   "execution_count": 1,
   "metadata": {},
   "outputs": [
    {
     "data": {
      "text/plain": [
       "[[], [], [], [], [], [], [], [], [], []]"
      ]
     },
     "execution_count": 1,
     "metadata": {},
     "output_type": "execute_result"
    }
   ],
   "source": [
    "b = 10\n",
    "foo = [[] for _ in range(b)]\n",
    "foo"
   ]
  },
  {
   "cell_type": "code",
   "execution_count": 7,
   "metadata": {},
   "outputs": [
    {
     "name": "stdout",
     "output_type": "stream",
     "text": [
      "2\n",
      "3\n",
      "do\n",
      "4\n",
      "5\n",
      "do\n",
      "6\n",
      "7\n",
      "do\n"
     ]
    }
   ],
   "source": [
    "import numpy as np\n",
    "for a,b in np.array([[2,3],[4,5],[6,7]]):\n",
    "    print(a)\n",
    "    print(b)\n",
    "    print(\"do\")"
   ]
  },
  {
   "cell_type": "code",
   "execution_count": 18,
   "metadata": {},
   "outputs": [
    {
     "name": "stdout",
     "output_type": "stream",
     "text": [
      "7\n",
      "[1, 5, 4, 7, 3]\n",
      "3\n",
      "3\n",
      "3\n"
     ]
    }
   ],
   "source": [
    "bar = np.array([1,5,4,7,3])\n",
    "print(max(bar))\n",
    "barlist = list(bar)\n",
    "print(barlist)\n",
    "print(barlist.index(7))\n",
    "print(barlist.index(max(barlist)))\n",
    "print(list(bar).index(max(bar)))"
   ]
  },
  {
   "cell_type": "code",
   "execution_count": null,
   "metadata": {},
   "outputs": [],
   "source": []
  }
 ],
 "metadata": {
  "kernelspec": {
   "display_name": "base",
   "language": "python",
   "name": "python3"
  },
  "language_info": {
   "codemirror_mode": {
    "name": "ipython",
    "version": 3
   },
   "file_extension": ".py",
   "mimetype": "text/x-python",
   "name": "python",
   "nbconvert_exporter": "python",
   "pygments_lexer": "ipython3",
   "version": "3.9.7"
  }
 },
 "nbformat": 4,
 "nbformat_minor": 2
}
