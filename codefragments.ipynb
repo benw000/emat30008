{
 "cells": [
  {
   "cell_type": "markdown",
   "metadata": {},
   "source": [
    "**Code Fragments**\n",
    "\n",
    "Use this notebook as a place to store tidbits of code that you haven't seen before, in a minimally viable setting"
   ]
  },
  {
   "cell_type": "code",
   "execution_count": 2,
   "metadata": {},
   "outputs": [],
   "source": [
    "import numpy as np"
   ]
  },
  {
   "cell_type": "code",
   "execution_count": null,
   "metadata": {},
   "outputs": [],
   "source": [
    "\n",
    "b = 10\n",
    "foo = [[] for _ in range(b)]\n",
    "foo"
   ]
  },
  {
   "cell_type": "code",
   "execution_count": 7,
   "metadata": {},
   "outputs": [
    {
     "name": "stdout",
     "output_type": "stream",
     "text": [
      "2\n",
      "3\n",
      "do\n",
      "4\n",
      "5\n",
      "do\n",
      "6\n",
      "7\n",
      "do\n"
     ]
    }
   ],
   "source": [
    "import numpy as np\n",
    "for a,b in np.array([[2,3],[4,5],[6,7]]):\n",
    "    print(a)\n",
    "    print(b)\n",
    "    print(\"do\")"
   ]
  },
  {
   "cell_type": "code",
   "execution_count": 18,
   "metadata": {},
   "outputs": [
    {
     "name": "stdout",
     "output_type": "stream",
     "text": [
      "7\n",
      "[1, 5, 4, 7, 3]\n",
      "3\n",
      "3\n",
      "3\n"
     ]
    }
   ],
   "source": [
    "bar = np.array([1,5,4,7,3])\n",
    "print(max(bar))\n",
    "barlist = list(bar)\n",
    "print(barlist)\n",
    "print(barlist.index(7))\n",
    "print(barlist.index(max(barlist)))\n",
    "print(list(bar).index(max(bar)))"
   ]
  },
  {
   "cell_type": "code",
   "execution_count": 3,
   "metadata": {},
   "outputs": [
    {
     "name": "stdout",
     "output_type": "stream",
     "text": [
      "[3. 4. 5.]\n"
     ]
    }
   ],
   "source": [
    "# Iterating over a list inside a code line\n",
    "mylist = [\"doo\", \"doop\", \"doopl\"]\n",
    "bing = np.array([len(i)  for i in mylist], dtype = 'float')\n",
    "print(bing)"
   ]
  },
  {
   "cell_type": "code",
   "execution_count": 23,
   "metadata": {},
   "outputs": [
    {
     "name": "stdout",
     "output_type": "stream",
     "text": [
      "I'm putting a number 9.8 here, and a word 'apple' here. \n"
     ]
    }
   ],
   "source": [
    "print(\"I'm putting a number {} here, and a word '{}' here. \".format(9.8, \"apple\"))"
   ]
  },
  {
   "cell_type": "code",
   "execution_count": null,
   "metadata": {},
   "outputs": [],
   "source": []
  }
 ],
 "metadata": {
  "kernelspec": {
   "display_name": "base",
   "language": "python",
   "name": "python3"
  },
  "language_info": {
   "codemirror_mode": {
    "name": "ipython",
    "version": 3
   },
   "file_extension": ".py",
   "mimetype": "text/x-python",
   "name": "python",
   "nbconvert_exporter": "python",
   "pygments_lexer": "ipython3",
   "version": "3.9.7"
  }
 },
 "nbformat": 4,
 "nbformat_minor": 2
}
