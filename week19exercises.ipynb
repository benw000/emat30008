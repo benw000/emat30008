{
 "cells": [
  {
   "cell_type": "markdown",
   "metadata": {},
   "source": [
    "---\n",
    "**Finite Difference Methods**\n",
    "\n",
    "Week 19 of EMAT30008\n",
    "\n",
    "https://engmaths.github.io/emat30008/pdes/finite_diff/\n",
    "\n",
    "(See scicomp/odefunctions.py for associated functions)\n",
    "\n",
    "Author: Ben Winstanley, yy23737@bristol.ac.uk\n",
    "\n",
    "---"
   ]
  },
  {
   "cell_type": "code",
   "execution_count": 1,
   "metadata": {},
   "outputs": [
    {
     "name": "stderr",
     "output_type": "stream",
     "text": [
      "/Applications/anaconda3/lib/python3.9/site-packages/scipy/__init__.py:146: UserWarning: A NumPy version >=1.16.5 and <1.23.0 is required for this version of SciPy (detected version 1.26.4\n",
      "  warnings.warn(f\"A NumPy version >={np_minversion} and <{np_maxversion}\"\n"
     ]
    }
   ],
   "source": [
    "import numpy as np\n",
    "import scipy\n",
    "import matplotlib.pyplot as plt"
   ]
  },
  {
   "cell_type": "markdown",
   "metadata": {},
   "source": [
    "Goal: Create BVP solver to find solutions to ODEs of form:\n",
    "\n",
    "$D \\frac{d^2 u}{d x^2} + q(x,u:\\mu) = 0$\n",
    "\n",
    "over domain $a \\leq x \\leq b$, $D > 0$\n",
    "\n",
    "Solver should handle Dirichlet, Neumann and Robin boundary conditions\n",
    "\n",
    "Should be compatible with numerical continuation to track how $u(x)$ changes with $\\mu$\n",
    "\n",
    "Should be option to solve with linalg solve or with scipy root"
   ]
  },
  {
   "cell_type": "markdown",
   "metadata": {},
   "source": [
    "-----------------\n",
    "Use finite differences to solve\n",
    "$\\frac{d^2 u}{dx^2} = 0, u(a)=\\gamma_1, u(b)=\\gamma_2$:\n",
    "\n",
    "We use N many gridpoints, $x_0 = a$, $x_N = b$, $i=0,1,2, \\dots ,N-1,N$\n",
    "\n",
    "Then our grid step is $\\Delta x = \\frac{b-a}{N}$\n",
    "\n",
    "We solve:\n",
    "\n",
    "$u_0 = a$\n",
    "\n",
    "$\\frac{u_{i+1} - 2u_i + u_{i-1}}{(\\Delta x)^2}$\n",
    "\n",
    "$u_N = b$\n",
    "\n",
    "This becomes solving the matrix equation:\n",
    "\n",
    "$A^{DD} \\vec{u} = -\\vec{b}^{DD}$\n",
    "\n",
    "This would have dimension N-1 for b^DD"
   ]
  },
  {
   "cell_type": "code",
   "execution_count": 34,
   "metadata": {},
   "outputs": [
    {
     "data": {
      "image/png": "[encoded data removed]",
      "text/plain": [
       "<Figure size 432x288 with 1 Axes>"
      ]
     },
     "metadata": {
      "needs_background": "light"
     },
     "output_type": "display_data"
    }
   ],
   "source": [
    "# Choose problem values\n",
    "a = -1\n",
    "gamma_1 = 0.2\n",
    "b = 2.4\n",
    "gamma_2 = 0.5\n",
    "\n",
    "# Choose grid size\n",
    "N = 10\n",
    "x_vals = np.linspace(a,b,N+1)\n",
    "delta_x = (b-a)/N\n",
    "\n",
    "# Construct b^DD with zero plus end points\n",
    "b_dd = np.zeros([N-1])\n",
    "b_dd[0] = gamma_1\n",
    "b_dd[-1] = gamma_2\n",
    "\n",
    "# Construct A_dd with zeros plus diagonals\n",
    "A_dd = -2*np.eye(N-1,k=0) + np.eye(N-1,k=1) + np.eye(N-1,k=-1)\n",
    "\n",
    "# Solve A_dd u = -b_dd with linalg solve\n",
    "u_interior = np.linalg.solve(A_dd, -b_dd)\n",
    "# Add interior points to boundary\n",
    "u = np.concatenate(([gamma_1], u_interior, [gamma_2]))\n",
    "\n",
    "# Plotting to check\n",
    "plt.scatter(x_vals,u)\n",
    "plt.xlabel(\"x\")\n",
    "plt.ylim([0,1])\n",
    "plt.ylabel(\"u(x)\")\n",
    "plt.show()"
   ]
  },
  {
   "cell_type": "code",
   "execution_count": 35,
   "metadata": {},
   "outputs": [
    {
     "name": "stdout",
     "output_type": "stream",
     "text": [
      "[-0.61311685 -0.31456656  0.01999867  0.35227423  0.64421769  0.86240423\n",
      "  0.98185353  0.98888977  0.88270735]\n",
      "[0.2 0.  0.  0.  0.  0.  0.  0.  0.5]\n"
     ]
    }
   ],
   "source": [
    "# Add source term q(x) in:\n",
    "def q_func(x):\n",
    "    return np.sin(x)\n",
    "\n",
    "# Equation becomes A_dd u = - b_dd - (delta x)^2 q(x)\n",
    "\n",
    "q_vals = q_func(x_vals)\n",
    "q_vals_interior = q_vals[1:-1]\n",
    "print(q_vals_interior)\n",
    "print(b_dd)"
   ]
  },
  {
   "cell_type": "code",
   "execution_count": null,
   "metadata": {},
   "outputs": [],
   "source": []
  }
 ],
 "metadata": {
  "kernelspec": {
   "display_name": "base",
   "language": "python",
   "name": "python3"
  },
  "language_info": {
   "codemirror_mode": {
    "name": "ipython",
    "version": 3
   },
   "file_extension": ".py",
   "mimetype": "text/x-python",
   "name": "python",
   "nbconvert_exporter": "python",
   "pygments_lexer": "ipython3",
   "version": "3.9.7"
  }
 },
 "nbformat": 4,
 "nbformat_minor": 2
}
