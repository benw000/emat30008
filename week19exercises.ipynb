{
 "cells": [
  {
   "cell_type": "markdown",
   "metadata": {},
   "source": [
    "---\n",
    "**Finite Difference Methods**\n",
    "\n",
    "Week 19 of EMAT30008\n",
    "\n",
    "https://engmaths.github.io/emat30008/pdes/finite_diff/\n",
    "\n",
    "(See scicomp/odefunctions.py for associated functions)\n",
    "\n",
    "Author: Ben Winstanley, yy23737@bristol.ac.uk\n",
    "\n",
    "---"
   ]
  },
  {
   "cell_type": "markdown",
   "metadata": {},
   "source": [
    "Goal: Create BVP solver to find solutions to ODEs of form:\n",
    "\n",
    "$D \\frac{d^2 u}{d x^2} + q(x,u:\\mu) = 0$\n",
    "\n",
    "over domain $a \\leq x \\leq b$, $D > 0$\n",
    "\n",
    "Solver should handle Dirichlet, Neumann and Robin boundary conditions\n",
    "\n",
    "Should be compatible with numerical continuation to track how $u(x)$ changes with $\\mu$\n",
    "\n",
    "Should be option to solve with linalg solve or with scipy root"
   ]
  },
  {
   "cell_type": "code",
   "execution_count": null,
   "metadata": {},
   "outputs": [],
   "source": []
  }
 ],
 "metadata": {
  "kernelspec": {
   "display_name": "base",
   "language": "python",
   "name": "python3"
  },
  "language_info": {
   "name": "python",
   "version": "3.9.7"
  }
 },
 "nbformat": 4,
 "nbformat_minor": 2
}
