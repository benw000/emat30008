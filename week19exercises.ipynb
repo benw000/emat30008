{
 "cells": [
  {
   "cell_type": "markdown",
   "metadata": {},
   "source": [
    "---\n",
    "**Finite Difference Methods**\n",
    "\n",
    "Week 19 of EMAT30008\n",
    "\n",
    "https://engmaths.github.io/emat30008/pdes/finite_diff/\n",
    "\n",
    "(See scicomp/odefunctions.py for associated functions)\n",
    "\n",
    "Author: Ben Winstanley, yy23737@bristol.ac.uk\n",
    "\n",
    "---"
   ]
  },
  {
   "cell_type": "code",
   "execution_count": 45,
   "metadata": {},
   "outputs": [],
   "source": [
    "import numpy as np\n",
    "from scipy.optimize import root\n",
    "import matplotlib.pyplot as plt"
   ]
  },
  {
   "cell_type": "markdown",
   "metadata": {},
   "source": [
    "Goal: Create BVP solver to find solutions to ODEs of form:\n",
    "\n",
    "$D \\frac{d^2 u}{d x^2} + q(x,u:\\mu) = 0$\n",
    "\n",
    "over domain $a \\leq x \\leq b$, $D > 0$\n",
    "\n",
    "Solver should handle Dirichlet, Neumann and Robin boundary conditions\n",
    "\n",
    "Should be compatible with numerical continuation to track how $u(x)$ changes with $\\mu$\n",
    "\n",
    "Should be option to solve with linalg solve or with scipy root"
   ]
  },
  {
   "cell_type": "markdown",
   "metadata": {},
   "source": [
    "-----------------\n",
    "Q1: \n",
    "Use finite differences to solve\n",
    "$\\frac{d^2 u}{dx^2} = 0, u(a)=\\gamma_1, u(b)=\\gamma_2$:\n",
    "\n",
    "We use N many gridpoints, $x_0 = a$, $x_N = b$, $i=0,1,2, \\dots ,N-1,N$\n",
    "\n",
    "Then our grid step is $\\Delta x = \\frac{b-a}{N}$\n",
    "\n",
    "We solve:\n",
    "\n",
    "$u_0 = a$\n",
    "\n",
    "$\\frac{u_{i+1} - 2u_i + u_{i-1}}{(\\Delta x)^2}$\n",
    "\n",
    "$u_N = b$\n",
    "\n",
    "This becomes solving the matrix equation:\n",
    "\n",
    "$A^{DD} \\vec{u} = -\\vec{b}^{DD}$\n",
    "\n",
    "This would have dimension N-1 for b^DD"
   ]
  },
  {
   "cell_type": "code",
   "execution_count": 34,
   "metadata": {},
   "outputs": [
    {
     "data": {
      "image/png": "[encoded data removed]",
      "text/plain": [
       "<Figure size 432x288 with 1 Axes>"
      ]
     },
     "metadata": {
      "needs_background": "light"
     },
     "output_type": "display_data"
    }
   ],
   "source": [
    "# Choose problem values\n",
    "a = -1\n",
    "gamma_1 = 0.2\n",
    "b = 2.4\n",
    "gamma_2 = 0.5\n",
    "\n",
    "# Choose grid size\n",
    "N = 10\n",
    "x_vals = np.linspace(a,b,N+1)\n",
    "delta_x = (b-a)/N\n",
    "\n",
    "# Construct b^DD with zero plus end points\n",
    "b_dd = np.zeros([N-1])\n",
    "b_dd[0] = gamma_1\n",
    "b_dd[-1] = gamma_2\n",
    "\n",
    "# Construct A_dd with zeros plus diagonals\n",
    "A_dd = -2*np.eye(N-1,k=0) + np.eye(N-1,k=1) + np.eye(N-1,k=-1)\n",
    "\n",
    "# Solve A_dd u = -b_dd with linalg solve\n",
    "u_interior = np.linalg.solve(A_dd, -b_dd)\n",
    "# Add interior points to boundary\n",
    "u = np.concatenate(([gamma_1], u_interior, [gamma_2]))\n",
    "\n",
    "# Plotting to check\n",
    "plt.scatter(x_vals,u)\n",
    "plt.xlabel(\"x\")\n",
    "plt.ylim([0,1])\n",
    "plt.ylabel(\"u(x)\")\n",
    "plt.show()"
   ]
  },
  {
   "cell_type": "markdown",
   "metadata": {},
   "source": [
    "----------------\n",
    "Q2: \n",
    "\n",
    "Add a prescribed source term q(x)\n",
    "\n",
    "$A^{DD} \\vec{u}(x) = -\\vec{b}^{DD} -(\\Delta x)^2 q(x)$"
   ]
  },
  {
   "cell_type": "code",
   "execution_count": 44,
   "metadata": {},
   "outputs": [
    {
     "data": {
      "image/png": "[encoded data removed]",
      "text/plain": [
       "<Figure size 432x288 with 1 Axes>"
      ]
     },
     "metadata": {
      "needs_background": "light"
     },
     "output_type": "display_data"
    }
   ],
   "source": [
    "# Add source term q(x) in:\n",
    "def q_func(x):\n",
    "    return np.sin(x)\n",
    "\n",
    "# Establish diffusivity constant D\n",
    "D = 0.3\n",
    "\n",
    "# Equation becomes A_dd u = - b_dd - (delta x)^2 q(x)\n",
    "\n",
    "q_vals = q_func(x_vals)\n",
    "q_vals_interior = q_vals[1:-1]\n",
    "\n",
    "# Solve\n",
    "rhs_vec = -b_dd - ((delta_x**2)/D)*q_vals_interior\n",
    "u_interior = np.linalg.solve(A_dd, rhs_vec)\n",
    "\n",
    "u = np.concatenate(([gamma_1], u_interior, [gamma_2]))\n",
    "\n",
    "# Plotting to check\n",
    "plt.scatter(x_vals,u)\n",
    "plt.xlabel(\"x\")\n",
    "plt.ylim([0,5])\n",
    "plt.ylabel(\"u(x)\")\n",
    "plt.show()"
   ]
  },
  {
   "cell_type": "markdown",
   "metadata": {},
   "source": [
    "-----------------\n",
    "Q3:\n",
    "\n",
    "Add dependence on q(u) to make the equation nonlinear\n",
    "\n",
    "Our equation is:\n",
    "\n",
    "$A^{DD} \\vec{u} = -\\vec{b}^{DD} -\\frac{(\\Delta x)^2}{D} q(\\vec u)$\n",
    "\n",
    "Then we want to find the root of the function:\n",
    "\n",
    "$F(\\vec u) = A^{DD} \\vec{u} + \\vec{b}^{DD} + \\frac{(\\Delta x)^2}{D} q(\\vec u)$\n",
    "\n",
    "We define this objective function then use scipy root to find the solution\n",
    "\n"
   ]
  },
  {
   "cell_type": "code",
   "execution_count": 49,
   "metadata": {},
   "outputs": [
    {
     "data": {
      "image/png": "[encoded data removed]",
      "text/plain": [
       "<Figure size 432x288 with 1 Axes>"
      ]
     },
     "metadata": {
      "needs_background": "light"
     },
     "output_type": "display_data"
    }
   ],
   "source": [
    "# Using same q function but it is now q(u)\n",
    "\n",
    "def objective(u:np.ndarray):\n",
    "    q_vals_interior = q_func(u)\n",
    "    F = np.matmul(A_dd, u) + b_dd + ((delta_x**2)/D)*q_vals_interior\n",
    "    return F\n",
    "\n",
    "# Define initial solution guess for root finding which is a line between boundary points\n",
    "u_guess_full = np.linspace(gamma_1,gamma_2,N+1)\n",
    "u_guess = u_guess_full[1:-1] # Take the interior\n",
    "\n",
    "# Solve with root\n",
    "solution = root(objective, u_guess)\n",
    "u_interior = solution.x\n",
    "\n",
    "# Add boundaries\n",
    "u = np.concatenate(([gamma_1], u_interior, [gamma_2]))\n",
    "\n",
    "# Plotting to check\n",
    "plt.scatter(x_vals,u)\n",
    "plt.xlabel(\"x\")\n",
    "plt.ylabel(\"u(x)\")\n",
    "plt.show()"
   ]
  },
  {
   "cell_type": "markdown",
   "metadata": {},
   "source": [
    "Solving the Bratu problem:\n",
    "\n",
    "$q(u) = e^{u\\mu}, \n",
    "a=0, b=1,\n",
    " \\gamma_1=\\gamma_2=0,\n",
    " D=1, \\mu=0.1$\n"
   ]
  },
  {
   "cell_type": "code",
   "execution_count": 53,
   "metadata": {},
   "outputs": [
    {
     "data": {
      "image/png": "[encoded data removed]",
      "text/plain": [
       "<Figure size 432x288 with 1 Axes>"
      ]
     },
     "metadata": {
      "needs_background": "light"
     },
     "output_type": "display_data"
    }
   ],
   "source": [
    "a,b = 0,1\n",
    "gamma_1, gamma_2 = 0, 0\n",
    "D = 1\n",
    "\n",
    "# Choose grid size\n",
    "N = 10\n",
    "x_vals = np.linspace(a,b,N+1)\n",
    "delta_x = (b-a)/N\n",
    "\n",
    "# Construct b^DD with zero plus end points\n",
    "b_dd = np.zeros([N-1])\n",
    "b_dd[0] = gamma_1\n",
    "b_dd[-1] = gamma_2\n",
    "\n",
    "# Construct A_dd with zeros plus diagonals\n",
    "A_dd = -2*np.eye(N-1,k=0) + np.eye(N-1,k=1) + np.eye(N-1,k=-1)\n",
    "\n",
    "def q_func(u):\n",
    "    mu = 0.1\n",
    "    return np.exp(mu * u)\n",
    "\n",
    "def objective(u:np.ndarray):\n",
    "    q_vals_interior = q_func(u)\n",
    "    F = np.matmul(A_dd, u) + b_dd + ((delta_x**2)/D)*q_vals_interior\n",
    "    return F\n",
    "\n",
    "# Define initial solution guess for root finding which is a line between boundary points\n",
    "# As suggested we start with the solution for small mu where q is effectively 1:\n",
    "def guess_function(x):\n",
    "    return (-1/(2*D))*(x-a)*(x-b) + ((gamma_2-gamma_1)/(b-a))*(x-a) + gamma_1\n",
    "\n",
    "u_guess_full = guess_function(x_vals)\n",
    "u_guess = u_guess_full[1:-1]\n",
    "\n",
    "# Solve with root\n",
    "solution = root(objective, u_guess)\n",
    "u_interior = solution.x\n",
    "\n",
    "# Add boundaries\n",
    "u = np.concatenate(([gamma_1], u_interior, [gamma_2]))\n",
    "\n",
    "# Plotting to check\n",
    "plt.scatter(x_vals,u)\n",
    "plt.xlabel(\"x\")\n",
    "plt.ylabel(\"u(x)\")\n",
    "plt.show()"
   ]
  },
  {
   "cell_type": "markdown",
   "metadata": {},
   "source": [
    "----------------\n",
    "Question 4:\n",
    "\n",
    "Before generalising we set up the problem with a Neumann and a Robin boundary on one side\n",
    "\n",
    "Neumann boundary:\n",
    "\n",
    "$u(a) = \\alpha , \\frac{du}{dx}[x=b] =  \\delta $\n",
    "\n",
    "We use the method of ghost points and extend the grid to include ghost point $x_{N+1}$\n",
    "\n",
    "This alters our matrix A and vector b\n",
    "\n",
    "Our root finding solution then includes physical end point $x_N$, and we add the left boundary only $u(a) = \\alpha $ to the start"
   ]
  },
  {
   "cell_type": "code",
   "execution_count": 61,
   "metadata": {},
   "outputs": [
    {
     "data": {
      "image/png": "[encoded data removed]",
      "text/plain": [
       "<Figure size 432x288 with 1 Axes>"
      ]
     },
     "metadata": {
      "needs_background": "light"
     },
     "output_type": "display_data"
    }
   ],
   "source": [
    "a = 3\n",
    "b = 10\n",
    "alpha = 5\n",
    "delta = -0.3\n",
    "D = 0.3\n",
    "\n",
    "# Choose grid size\n",
    "N = 20\n",
    "x_vals = np.linspace(a,b,N+1)\n",
    "delta_x = (b-a)/N\n",
    "\n",
    "# Construct b^dn with zero plus end points, 1 more entry\n",
    "b_dn = np.zeros([(N-1) + 1])\n",
    "b_dn[0] = alpha\n",
    "b_dn[-1] = 2*delta*delta_x\n",
    "\n",
    "# Construct A_dn with zeros plus diagonals, altered for neumann\n",
    "A_dn = -2*np.eye(N,k=0) + np.eye(N,k=1) + np.eye(N,k=-1)\n",
    "A_dn[-1,-2] = 2\n",
    "\n",
    "def q_func(x):\n",
    "    return np.sin(x)\n",
    "\n",
    "q_vals = q_func(x_vals)\n",
    "q_vals_interior = q_vals[1:]\n",
    "\n",
    "rhs_vec = -b_dn - ((delta_x**2)/D)*q_vals_interior\n",
    "u_interior = np.linalg.solve(A_dn, rhs_vec)\n",
    "\n",
    "u = np.concatenate(([alpha], u_interior))\n",
    "                   \n",
    "# Plotting to check\n",
    "plt.scatter(x_vals,u)\n",
    "plt.xlabel(\"x\")\n",
    "plt.ylabel(\"u(x)\")\n",
    "plt.show()"
   ]
  },
  {
   "cell_type": "markdown",
   "metadata": {},
   "source": [
    "Robin boundary (mixed):\n",
    "\n",
    "$u(a) = \\alpha , \\frac{du}{dx}[x=b] =  \\delta - \\gamma u(b)$"
   ]
  },
  {
   "cell_type": "code",
   "execution_count": 63,
   "metadata": {},
   "outputs": [
    {
     "data": {
      "image/png": "[encoded data removed]",
      "text/plain": [
       "<Figure size 432x288 with 1 Axes>"
      ]
     },
     "metadata": {
      "needs_background": "light"
     },
     "output_type": "display_data"
    }
   ],
   "source": [
    "a = 3\n",
    "b = 10\n",
    "alpha = 5\n",
    "delta = 0\n",
    "gamma = 1\n",
    "D = 0.3\n",
    "\n",
    "# Choose grid size\n",
    "N = 20\n",
    "x_vals = np.linspace(a,b,N+1)\n",
    "delta_x = (b-a)/N\n",
    "\n",
    "# Construct b^dr with zero plus end points, 1 more entry\n",
    "b_dr = np.zeros([(N-1) + 1])\n",
    "b_dr[0] = alpha\n",
    "b_dr[-1] = 2*delta*delta_x\n",
    "\n",
    "# Construct A_dr with zeros plus diagonals, altered for neumann\n",
    "A_dr = -2*np.eye(N,k=0) + np.eye(N,k=1) + np.eye(N,k=-1)\n",
    "A_dr[-1,-2] = 2\n",
    "A_dr[-1,-1] = -2*(1+gamma*delta_x)\n",
    "\n",
    "def q_func(x):\n",
    "    return np.sin(x)\n",
    "\n",
    "q_vals = q_func(x_vals)\n",
    "q_vals_interior = q_vals[1:]\n",
    "\n",
    "rhs_vec = -b_dr - ((delta_x**2)/D)*q_vals_interior\n",
    "u_interior = np.linalg.solve(A_dr, rhs_vec)\n",
    "\n",
    "u = np.concatenate(([alpha], u_interior))\n",
    "                   \n",
    "# Plotting to check\n",
    "plt.scatter(x_vals,u)\n",
    "plt.xlabel(\"x\")\n",
    "plt.ylabel(\"u(x)\")\n",
    "plt.show()"
   ]
  },
  {
   "cell_type": "markdown",
   "metadata": {},
   "source": [
    "\n",
    "Update to do this with Dirichlet, Neumann or Robin b.c.s. Generalise code\n",
    "\n",
    "- We note that Neumann, Robin and Dirichlet boundary conditions only affect the matrix A and vector b\n",
    "- Need functionality to include q, and indicate whether q acts on x or u\n",
    "- If nonlinear we pass on q function into an objective function defined inside\n",
    "- If nonlinear we require an initial solution guess: we set a default guess to be the line connecting the boundaries"
   ]
  },
  {
   "cell_type": "code",
   "execution_count": null,
   "metadata": {},
   "outputs": [],
   "source": [
    "def finite_diff_bvp_solver(num_grid_points,\n",
    "                           grid_bounds,\n",
    "                           left_boundary_type, left_boundary_vals, \n",
    "                           right_boundary_type, right_boundary_vals,\n",
    "                           q_func = None,\n",
    "                           q_nonlinear = False,\n",
    "                           guess_function = False,\n",
    "                           ):\n",
    "    '''\n",
    "    Insert extensive docstring here\n",
    "    '''\n",
    "    N = num_grid_points\n",
    "    a, b = grid_bounds\n",
    "\n",
    "    # Establish x grid\n",
    "    x_vals = np.linspace(a,b,N+1)\n",
    "    delta_x = (b-a)/N\n",
    "\n",
    "    # Calculate number of interior grid points based on boundary conditions\n",
    "    N_interior = N-1\n",
    "    x_vals_interior = x_vals\n",
    "    if left_boundary_type != 'Dirichlet':\n",
    "        N_interior += 1  # Include additional ghost point (on left)\n",
    "        x_vals_interior = x_vals_interior[1:]\n",
    "    if right_boundary_type != 'Dirichlet':\n",
    "        N_interior += 1  # Include additional ghost point (on right)\n",
    "        x_vals_interior = x_vals_interior[:-1]\n",
    "    \n",
    "    # Initialise b_vec and A_matrix\n",
    "    b_vec = np.zeros([N_interior])\n",
    "    A_matrix = -2*np.eye(N_interior,k=0) + np.eye(N_interior,k=1) + np.eye(N_interior,k=-1)\n",
    "    \n",
    "    # Treat left boundary\n",
    "    if left_boundary_type == 'Dirichlet':\n",
    "        b_vec[0] = left_boundary_vals[0]\n",
    "    elif left_boundary_type == 'Neumann':\n",
    "        b_vec[0] = -left_boundary_vals[0]*2*delta_x\n",
    "        A_matrix[0,1] = 2\n",
    "    elif left_boundary_type == 'Robin':\n",
    "        b_vec[0] = -left_boundary_vals[0]*2*delta_x\n",
    "        A_matrix[0,1] = 2\n",
    "        A_matrix[0,0] = -2*(1+delta_x*left_boundary_vals[1])\n",
    "\n",
    "    # Treat right boundary\n",
    "    if right_boundary_type == 'Dirichlet':\n",
    "        b_vec[-1] = right_boundary_vals[0]\n",
    "    elif right_boundary_type == 'Neumann':\n",
    "        b_vec[-1] = right_boundary_vals[0]*2*delta_x\n",
    "        A_matrix[-1,-2] = 2\n",
    "    elif right_boundary_type == 'Robin':\n",
    "        b_vec[-1] = right_boundary_vals[0]*2*delta_x\n",
    "        A_matrix[-1,-2] = 2\n",
    "        A_matrix[-1,-1] = -2*(1+delta_x*right_boundary_vals[1])\n",
    "\n",
    "    # If no source term q then call linalg to solve\n",
    "    if q_func == None:\n",
    "        u_interior = np.linalg.solve(A_matrix, -b_vec)\n",
    "\n",
    "    # If source term q then split by linear or nonlinear\n",
    "    if not q_nonlinear:\n",
    "        # Calculate fixed q(x)\n",
    "        q_vals_interior = q_func(x_vals_interior)\n",
    "\n",
    "        # Solve with linalg solve\n",
    "        rhs_vec = -b_vec - ((delta_x**2)/D)*q_vals_interior\n",
    "        u_interior = np.linalg.solve(A_matrix, rhs_vec)\n",
    "\n",
    "    elif q_nonlinear:\n",
    "        # Define objective function to minimise\n",
    "        def objective(u:np.ndarray):\n",
    "            q_vals_interior = q_func(u)\n",
    "            F = np.matmul(A_matrix, u) + b_vec + ((delta_x**2)/D)*q_vals_interior\n",
    "            return F\n",
    "        \n",
    "        # Establish initial guess solution via a function\n",
    "        # If guess solution function isn't supplied then make one\n",
    "        if guess_function == None:\n",
    "            # If both Dirichlet bounds given:\n",
    "            if (left_boundary_type == 'Dirichlet') and (right_boundary_type = 'Dirichlet'):\n",
    "                # Establish function connecting both points\n",
    "                def guess_function(x):\n",
    "                    return left_boundary_vals[0] + ((right_boundary_vals[0]-left_boundary_vals[0])/(b-a))*(x-a)\n",
    "            elif left_boundary_type == 'Dirichlet':\n",
    "                # Establish function with constant left boundary value\n",
    "                def guess_function(x):\n",
    "                    return left_boundary_vals[0]\n",
    "            elif right_boundary_type == ' Dirichlet':\n",
    "                # Establish function with constant right boundary value\n",
    "                def guess_function(x):\n",
    "                    return right_boundary_vals[0]\n",
    "            else:\n",
    "                # Establish function f(x) = 1\n",
    "                def guess_function(x):\n",
    "                    return 1\n",
    "        \n",
    "        # Calculate guess solution\n",
    "        u_guess = guess_function(x_vals_interior)\n",
    "        \n",
    "        \n",
    "\n",
    "\n",
    "            \n",
    "            \n",
    "        else:\n",
    "            # Use supplied guess function to establish guess solution\n",
    "\n",
    "        \n",
    "    \n",
    "    # Add prescribed boundary points if Dirichlet"
   ]
  }
 ],
 "metadata": {
  "kernelspec": {
   "display_name": "base",
   "language": "python",
   "name": "python3"
  },
  "language_info": {
   "codemirror_mode": {
    "name": "ipython",
    "version": 3
   },
   "file_extension": ".py",
   "mimetype": "text/x-python",
   "name": "python",
   "nbconvert_exporter": "python",
   "pygments_lexer": "ipython3",
   "version": "3.9.7"
  }
 },
 "nbformat": 4,
 "nbformat_minor": 2
}
