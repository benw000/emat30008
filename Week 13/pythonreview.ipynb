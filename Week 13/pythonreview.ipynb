{
 "cells": [
  {
   "cell_type": "markdown",
   "metadata": {},
   "source": [
    "Python Review"
   ]
  },
  {
   "cell_type": "code",
   "execution_count": 1,
   "metadata": {},
   "outputs": [
    {
     "name": "stdout",
     "output_type": "stream",
     "text": [
      "2.0\n",
      "2\n",
      "False\n",
      "0\n",
      "True\n",
      "2.0\n",
      "Chien\n",
      "5\n",
      "1, 2, 3, 4, 5, 6, 7, 8, 9, \n",
      "\n",
      "1\n",
      "3\n",
      "7\n",
      "0\n",
      "1\n",
      "2\n",
      "3\n",
      "4\n",
      "5\n",
      "6\n",
      "7\n",
      "2\n",
      "3\n",
      "4\n",
      "5\n",
      "6\n"
     ]
    }
   ],
   "source": [
    "a = 2.0\n",
    "\n",
    "# Use hashtag for comments\n",
    "# Unlike MATLAB, you have to print anything you want to see:\n",
    "print(a)\n",
    "\n",
    "# Data types\n",
    "a = 1      #int\n",
    "b = 1.0    #float\n",
    "c = 'one'  #string\n",
    "\n",
    "# You can typecast one data type as another\n",
    "d = int(2.0)\n",
    "print(d)\n",
    "\n",
    "# Operations\n",
    "# + - / * work normally\n",
    "# // gives floor of a division, ie without remainder\n",
    "# % gives the remainder of division, modular\n",
    "# ** gives exponentiation\n",
    "\n",
    "# Booleans (Bools)\n",
    "a = 7>9\n",
    "print(a)\n",
    "# Bools automatically assume 0 or 1 when combined with ints or floats\n",
    "print(a*3)\n",
    "# Connectives and, or, not, can be used\n",
    "print(((3<6) and (not 8+4==11)))\n",
    "\n",
    "\n",
    "# Data structures\n",
    "my_list = [1, 2.0, \"seven\"]\n",
    "my_tuple = (1, 2.0, \"seven\")\n",
    "my_dict = {'Cat':'Chat', 'Dog':'Chien', 'Sun':'Sol'}\n",
    "\n",
    "# Call different elements of a collection with square brackets [], indexing starting at 0\n",
    "print(my_list[1])\n",
    "\n",
    "# Get the value/entry associated with a key (label) in a dictionary, by calling the key name\n",
    "print(my_dict['Dog'])\n",
    "\n",
    "\n",
    "# Loops\n",
    "# If loop executes indented code below it if the boolean value is true. Need a colon to indent\n",
    "# Use elif to set out other cases, and else to treat remaining cases\n",
    "i = 5\n",
    "if i > 0:\n",
    "    print(i)\n",
    "elif i == 5:\n",
    "    print(\"doo\")\n",
    "else:\n",
    "    print(\"i <= 0\")\n",
    "\n",
    "\n",
    "\n",
    "# While loop keeps executing the indented code repeatedly until a bool turns false\n",
    "n = 1\n",
    "while n < 10:\n",
    "    print(n, end=\", \")\n",
    "    n += 1     # increment n\n",
    "\n",
    "\n",
    "print(\"\\n\")   # print new line\n",
    "\n",
    "# For loops execute the block of indented code for each element of a specified collection\n",
    "foo = [1,3,7]\n",
    "for f in foo:\n",
    "    print(f)\n",
    "\n",
    "# Range runs from 0 to the argument-1, only used in for statements\n",
    "bar = range(8)\n",
    "for b in bar:\n",
    "    print(b)\n",
    "\n",
    "# Range can get second argument for starting value\n",
    "a = range(2,7)\n",
    "for y in a:\n",
    "    print(y)\n",
    "\n"
   ]
  },
  {
   "cell_type": "code",
   "execution_count": 35,
   "metadata": {},
   "outputs": [
    {
     "name": "stdout",
     "output_type": "stream",
     "text": [
      "0\n",
      "1\n",
      "2\n",
      "3\n",
      "4\n",
      "\n",
      "\n",
      "0\n",
      "1\n",
      "2\n",
      "3\n",
      "4\n",
      "6\n"
     ]
    }
   ],
   "source": [
    "# Break will exit the immediate loop \n",
    "for i in range(7):\n",
    "    if i == 5:\n",
    "        break\n",
    "    print(i)\n",
    "\n",
    "print(\"\\n\")\n",
    "\n",
    "# Continue will skip the current iteration in the loop\n",
    "for i in range(7):\n",
    "    if i == 5:\n",
    "        continue\n",
    "    print(i)  "
   ]
  },
  {
   "cell_type": "code",
   "execution_count": 2,
   "metadata": {},
   "outputs": [
    {
     "name": "stdout",
     "output_type": "stream",
     "text": [
      "9\n"
     ]
    },
    {
     "data": {
      "text/plain": [
       "12"
      ]
     },
     "execution_count": 2,
     "metadata": {},
     "output_type": "execute_result"
    }
   ],
   "source": [
    "# Define a function using def keyword\n",
    "def my_sum(a: float, b: float):\n",
    "    ''' Function description turns up when you hover over function call on vscode\n",
    "    '''\n",
    "    c = a + b  # Interior variables within scope of function\n",
    "    return c\n",
    "\n",
    "# Call the function and pass a parameter for each needed\n",
    "\n",
    "d = my_sum(3,6)\n",
    "print(d)\n",
    "\n",
    "# Can have a function with optional arguments\n",
    "def my_product(a,b=3):\n",
    "    c = a*b\n",
    "    return c\n",
    "\n",
    "my_product(4)\n",
    "\n"
   ]
  },
  {
   "cell_type": "code",
   "execution_count": 2,
   "metadata": {},
   "outputs": [
    {
     "name": "stdout",
     "output_type": "stream",
     "text": [
      "15\n",
      "3.141592653589793\n",
      "2.7\n"
     ]
    }
   ],
   "source": [
    "# We can call upon modules, which are other .py files containing variables and functions\n",
    "\n",
    "# First import the relevant module by its file name\n",
    "import mymodule\n",
    "\n",
    "# Then call on a specific function by adding .functionname to the package name\n",
    "print(mymodule.mymodulefunction(3,5))\n",
    "\n",
    "# There are existing packages, which are collections of modules, such as numpy\n",
    "import numpy\n",
    "print(numpy.pi)  # Access the pi variable from numpy package\n",
    "\n",
    "# Shorten the name of a package you want to repeatedly use\n",
    "import mymodule as md \n",
    "\n",
    "print(md.mymodulevariable)\n",
    "\n"
   ]
  },
  {
   "cell_type": "code",
   "execution_count": 22,
   "metadata": {},
   "outputs": [
    {
     "name": "stdout",
     "output_type": "stream",
     "text": [
      "[1 2 3]\n",
      "26\n",
      "[[1 2 3]\n",
      " [4 5 6]\n",
      " [7 8 9]]\n",
      "[14 32 50]\n",
      "[2 2 2]\n",
      "[[1. 0. 0.]\n",
      " [0. 1. 0.]\n",
      " [0. 0. 1.]]\n",
      "[[1. 1.]\n",
      " [1. 1.]]\n",
      "[2.   2.25 2.5  2.75 3.  ]\n",
      "[0.14112001 0.84147098 0.90929743]\n"
     ]
    }
   ],
   "source": [
    "# numpy allows you to store vectors and matrices as arrays, a new data structure\n",
    "import numpy as np\n",
    "\n",
    "u = np.array([3, 4, 5]) # Make 1D array, a vector\n",
    "\n",
    "foo = [1, 2, 3]\n",
    "v = np.array(foo)  # Convert a list to an array\n",
    "print(v)\n",
    "\n",
    "# Do linalg with it\n",
    "w = np.dot(v,u)\n",
    "print(w)\n",
    "\n",
    "M = np.array([[1,2,3],[4,5,6],[7,8,9]])\n",
    "print(M)\n",
    "\n",
    "# Multiply vectors and matrices with '@'\n",
    "print(M@np.transpose(v))\n",
    "\n",
    "print(u-v)\n",
    "\n",
    "print(np.eye(3))\n",
    "\n",
    "print(np.ones([2, 2]))\n",
    "\n",
    "# linspace(start, stop, num. of elements)\n",
    "print(np.linspace(2,3,5))\n",
    "\n",
    "# np functions can operate element wise on arrays\n",
    "bill = np.array([3,1,2])\n",
    "print(np.sin(bill))\n"
   ]
  },
  {
   "cell_type": "code",
   "execution_count": 35,
   "metadata": {},
   "outputs": [
    {
     "name": "stdout",
     "output_type": "stream",
     "text": [
      "[ 1.31372549 -0.8627451   0.80392157]\n",
      "50.99999999999997\n",
      "[[-0.19607843  0.2745098   0.01960784]\n",
      " [ 0.03921569 -0.25490196  0.19607843]\n",
      " [ 0.37254902  0.07843137 -0.1372549 ]]\n",
      "[[ 0.44053575+0.j          0.34073633+0.44184424j  0.34073633-0.44184424j]\n",
      " [ 0.45181944+0.j          0.16370926-0.49638347j  0.16370926+0.49638347j]\n",
      " [ 0.77574961+0.j         -0.64457362+0.j         -0.64457362-0.j        ]]\n"
     ]
    }
   ],
   "source": [
    "# Numpy's linalg module can do specific things\n",
    "A = np.array([ [1, 2, 3],[4, 1, 2],[5, 6, 2]])\n",
    "b = np.array([2,6,3])\n",
    "\n",
    "# Solve Ax=b\n",
    "x = np.linalg.solve(A,b)\n",
    "print(x)\n",
    "\n",
    "# Work out det, inv, eig\n",
    "print(np.linalg.det(A))\n",
    "\n",
    "print(np.linalg.inv(A))\n",
    "\n",
    "[eigvals, eigvecs] = np.linalg.eig(A)\n",
    "print(eigvecs)"
   ]
  },
  {
   "cell_type": "code",
   "execution_count": null,
   "metadata": {},
   "outputs": [],
   "source": [
    "# SciPy does specific scientific functions: solving nonlinear equations, optimisation\n",
    "# integration, linear algebra, sparse linear algebra\n",
    "\n",
    "# matplotlib works well with numpy"
   ]
  }
 ],
 "metadata": {
  "kernelspec": {
   "display_name": "base",
   "language": "python",
   "name": "python3"
  },
  "language_info": {
   "codemirror_mode": {
    "name": "ipython",
    "version": 3
   },
   "file_extension": ".py",
   "mimetype": "text/x-python",
   "name": "python",
   "nbconvert_exporter": "python",
   "pygments_lexer": "ipython3",
   "version": "3.9.7"
  }
 },
 "nbformat": 4,
 "nbformat_minor": 2
}
