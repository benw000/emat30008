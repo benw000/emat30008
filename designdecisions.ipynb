{
 "cells": [
  {
   "cell_type": "markdown",
   "metadata": {},
   "source": [
    "**Software Design Decisions**\n",
    "\n",
    "Use this to document particular decisions and philosophy about the functions produced each week."
   ]
  },
  {
   "cell_type": "markdown",
   "metadata": {},
   "source": [
    "*Week 14*\n"
   ]
  },
  {
   "cell_type": "markdown",
   "metadata": {},
   "source": [
    "*Week 15* "
   ]
  },
  {
   "cell_type": "markdown",
   "metadata": {},
   "source": []
  }
 ],
 "metadata": {
  "language_info": {
   "name": "python"
  }
 },
 "nbformat": 4,
 "nbformat_minor": 2
}
