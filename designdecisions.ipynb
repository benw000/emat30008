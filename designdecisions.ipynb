{
 "cells": [
  {
   "cell_type": "markdown",
   "metadata": {},
   "source": [
    "**Software Design Decisions**\n",
    "\n",
    "Use this to document particular decisions and philosophy about the functions produced each week. This should help me with the final 1250 word report."
   ]
  },
  {
   "cell_type": "markdown",
   "metadata": {},
   "source": [
    "*Week 14*\n",
    "\n",
    "Use the python format to force types of inputs and outputs, and use ''' comment  ''' to describe the function so that it shows up on pylance when we hover over it"
   ]
  },
  {
   "cell_type": "code",
   "execution_count": null,
   "metadata": {},
   "outputs": [],
   "source": [
    "def euler_step(f, x: np.ndarray, t: float, h: float) -> np.ndarray:\n",
    "    '''\n",
    "    ODE is x' = f(x,t)\n",
    "    Performs single Euler step with step size h\n",
    "    '''\n",
    "    x_next = x + h*f(x,t)\n",
    "    return x_next"
   ]
  },
  {
   "cell_type": "markdown",
   "metadata": {},
   "source": [
    "Raise exceptions if the inputs are faulty:"
   ]
  },
  {
   "cell_type": "code",
   "execution_count": null,
   "metadata": {},
   "outputs": [],
   "source": [
    "if deltat_max >= (t_final - t_init):\n",
    "        raise Exception(\"Maximum time-step deltat_max >= total time interval\")"
   ]
  },
  {
   "cell_type": "markdown",
   "metadata": {},
   "source": [
    "For euler (and fixed step size) method, use as many steps of size h as we can until we can't, then finish with smaller value of h. Do this with np.arange(t_init, t_final - h/100, h). Not sure this works, might have to check the logic. \n",
    "\n",
    "Store the state values as rows in a np array, and at each update use np.vstack to update. Seperately have t_vals as its own 1d array, and then finally store = np.concatenate((np.array([t_vals]).T, x_store), axis=1) which will give an output of column 0 with time values, then the remaining columns the state values for each variable, each row a new time.\n",
    "\n",
    "Within runge-kutta method, explicitly wrote out code to compute each step, but could make a function that computes a single runge kutta step for more modular code.\n",
    "\n",
    "Spent a lot of time making exercise ipynb for week 14 look good, but don't need to do this for future weeks as this isnt the final product we're assessed on, instead its the functions in the repository plus a demo. But can still copy the formatting for clarity. Plotted things for each exercise very neatly, can steal plotting."
   ]
  },
  {
   "cell_type": "markdown",
   "metadata": {},
   "source": [
    "*Week 15*  "
   ]
  },
  {
   "cell_type": "markdown",
   "metadata": {},
   "source": []
  }
 ],
 "metadata": {
  "language_info": {
   "name": "python"
  }
 },
 "nbformat": 4,
 "nbformat_minor": 2
}
